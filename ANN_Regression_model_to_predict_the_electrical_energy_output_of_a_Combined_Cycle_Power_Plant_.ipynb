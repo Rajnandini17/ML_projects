{
  "nbformat": 4,
  "nbformat_minor": 0,
  "metadata": {
    "colab": {
      "provenance": [],
      "include_colab_link": true
    },
    "kernelspec": {
      "name": "python3",
      "display_name": "Python 3"
    }
  },
  "cells": [
    {
      "cell_type": "markdown",
      "metadata": {
        "id": "view-in-github",
        "colab_type": "text"
      },
      "source": [
        "<a href=\"https://colab.research.google.com/github/Rajnandini17/ML_projects/blob/main/ANN_Regression_model_to_predict_the_electrical_energy_output_of_a_Combined_Cycle_Power_Plant_.ipynb\" target=\"_parent\"><img src=\"https://colab.research.google.com/assets/colab-badge.svg\" alt=\"Open In Colab\"/></a>"
      ]
    },
    {
      "cell_type": "markdown",
      "metadata": {
        "id": "3cbb7fRy-eyr"
      },
      "source": [
        "# Artificial Neural Network"
      ]
    },
    {
      "cell_type": "markdown",
      "metadata": {
        "id": "8sNDnxE2-pwE"
      },
      "source": [
        "### Importing the libraries"
      ]
    },
    {
      "cell_type": "code",
      "source": [
        "import pandas as pd\n",
        "import numpy as np\n",
        "import tensorflow as tf"
      ],
      "metadata": {
        "id": "TowBELNgxEqz"
      },
      "execution_count": null,
      "outputs": []
    },
    {
      "cell_type": "code",
      "source": [
        "tf.__version__"
      ],
      "metadata": {
        "colab": {
          "base_uri": "https://localhost:8080/",
          "height": 36
        },
        "id": "zMGPk80AxLIa",
        "outputId": "5b4c8c4c-1067-477b-e252-543f8383501a"
      },
      "execution_count": null,
      "outputs": [
        {
          "output_type": "execute_result",
          "data": {
            "text/plain": [
              "'2.12.0'"
            ],
            "application/vnd.google.colaboratory.intrinsic+json": {
              "type": "string"
            }
          },
          "metadata": {},
          "execution_count": 2
        }
      ]
    },
    {
      "cell_type": "markdown",
      "metadata": {
        "id": "AG3FQEch-yuA"
      },
      "source": [
        "## Part 1 - Data Preprocessing"
      ]
    },
    {
      "cell_type": "markdown",
      "metadata": {
        "id": "-4zq8Mza_D9O"
      },
      "source": [
        "### Importing the dataset"
      ]
    },
    {
      "cell_type": "code",
      "source": [
        "dataset = pd.read_excel('Folds5x2_pp.xlsx')\n",
        "X = dataset.iloc[:, :-1].values\n",
        "y = dataset.iloc[:, -1].values"
      ],
      "metadata": {
        "id": "694OMDiyxpF0"
      },
      "execution_count": null,
      "outputs": []
    },
    {
      "cell_type": "code",
      "source": [
        "print(X)"
      ],
      "metadata": {
        "colab": {
          "base_uri": "https://localhost:8080/"
        },
        "id": "DFE40RXXyf6y",
        "outputId": "8e005292-a5ff-4949-d710-0db4ae127f11"
      },
      "execution_count": null,
      "outputs": [
        {
          "output_type": "stream",
          "name": "stdout",
          "text": [
            "[[  14.96   41.76 1024.07   73.17]\n",
            " [  25.18   62.96 1020.04   59.08]\n",
            " [   5.11   39.4  1012.16   92.14]\n",
            " ...\n",
            " [  31.32   74.33 1012.92   36.48]\n",
            " [  24.48   69.45 1013.86   62.39]\n",
            " [  21.6    62.52 1017.23   67.87]]\n"
          ]
        }
      ]
    },
    {
      "cell_type": "code",
      "source": [
        "print(y)"
      ],
      "metadata": {
        "colab": {
          "base_uri": "https://localhost:8080/"
        },
        "id": "8cJP3G3tyhmB",
        "outputId": "05335ec2-40ec-4ea2-c4cb-a902ebdba7fd"
      },
      "execution_count": null,
      "outputs": [
        {
          "output_type": "stream",
          "name": "stdout",
          "text": [
            "[463.26 444.37 488.56 ... 429.57 435.74 453.28]\n"
          ]
        }
      ]
    },
    {
      "cell_type": "markdown",
      "metadata": {
        "id": "VC6omXel_Up0"
      },
      "source": [
        "### Splitting the dataset into the Training set and Test set"
      ]
    },
    {
      "cell_type": "code",
      "source": [
        "from sklearn.model_selection import train_test_split\n",
        "X_train, X_test, y_train, y_test = train_test_split(X, y, test_size = 0.2, random_state = 0)"
      ],
      "metadata": {
        "id": "UH1hEWiKy3Jk"
      },
      "execution_count": null,
      "outputs": []
    },
    {
      "cell_type": "markdown",
      "metadata": {
        "id": "_mSLlAT9_eyI"
      },
      "source": [
        "## Part 2 - Building the ANN"
      ]
    },
    {
      "cell_type": "markdown",
      "metadata": {
        "id": "CsBULd_f_wLY"
      },
      "source": [
        "### Initializing the ANN"
      ]
    },
    {
      "cell_type": "code",
      "source": [
        "ann = tf.keras.models.Sequential()"
      ],
      "metadata": {
        "id": "kBQ1fjllzj5X"
      },
      "execution_count": null,
      "outputs": []
    },
    {
      "cell_type": "markdown",
      "metadata": {
        "id": "iitAFJS_ABUn"
      },
      "source": [
        "### Adding the input layer and the first hidden layer"
      ]
    },
    {
      "cell_type": "code",
      "source": [
        "ann.add(tf.keras.layers.Dense(units = 6, activation = 'relu'))"
      ],
      "metadata": {
        "id": "WHIfp0przv18"
      },
      "execution_count": null,
      "outputs": []
    },
    {
      "cell_type": "markdown",
      "metadata": {
        "id": "-lb4kK_wAKbs"
      },
      "source": [
        "### Adding the second hidden layer"
      ]
    },
    {
      "cell_type": "code",
      "source": [
        "ann.add(tf.keras.layers.Dense(units = 6, activation = 'relu'))"
      ],
      "metadata": {
        "id": "eX3sgD6tzwdT"
      },
      "execution_count": null,
      "outputs": []
    },
    {
      "cell_type": "markdown",
      "metadata": {
        "id": "jwMOmKb3AdBY"
      },
      "source": [
        "### Adding the output layer"
      ]
    },
    {
      "cell_type": "code",
      "source": [
        "ann.add(tf.keras.layers.Dense(units = 1, activation = 'sigmoid'))"
      ],
      "metadata": {
        "id": "28nwuHmZzxO-"
      },
      "execution_count": null,
      "outputs": []
    },
    {
      "cell_type": "markdown",
      "metadata": {
        "id": "fq7e4fF6A1yy"
      },
      "source": [
        "## Part 3 - Training the ANN"
      ]
    },
    {
      "cell_type": "markdown",
      "metadata": {
        "id": "qDeylAs2An25"
      },
      "source": [
        "### Compiling the ANN"
      ]
    },
    {
      "cell_type": "code",
      "source": [
        "ann.compile(optimizer = 'adam', loss = 'mean_squared_error')"
      ],
      "metadata": {
        "id": "B-gt6MU71bRr"
      },
      "execution_count": 11,
      "outputs": []
    },
    {
      "cell_type": "markdown",
      "metadata": {
        "id": "YjVuiybYOo7r"
      },
      "source": [
        "### Training the ANN model on the Training set"
      ]
    },
    {
      "cell_type": "code",
      "source": [
        "ann.fit(X_train, y_train, batch_size = 32, epochs = 100, )"
      ],
      "metadata": {
        "id": "BvMkwjMt1cpM",
        "colab": {
          "base_uri": "https://localhost:8080/"
        },
        "outputId": "1f690d05-9165-4b5e-85f9-14f8719376b2"
      },
      "execution_count": 12,
      "outputs": [
        {
          "output_type": "stream",
          "name": "stdout",
          "text": [
            "Epoch 1/100\n",
            "240/240 [==============================] - 1s 2ms/step - loss: 206682.2812\n",
            "Epoch 2/100\n",
            "240/240 [==============================] - 0s 2ms/step - loss: 206682.2812\n",
            "Epoch 3/100\n",
            "240/240 [==============================] - 0s 2ms/step - loss: 206682.3281\n",
            "Epoch 4/100\n",
            "240/240 [==============================] - 0s 2ms/step - loss: 206682.2188\n",
            "Epoch 5/100\n",
            "240/240 [==============================] - 0s 2ms/step - loss: 206682.2188\n",
            "Epoch 6/100\n",
            "240/240 [==============================] - 0s 2ms/step - loss: 206682.2656\n",
            "Epoch 7/100\n",
            "240/240 [==============================] - 0s 2ms/step - loss: 206682.2500\n",
            "Epoch 8/100\n",
            "240/240 [==============================] - 0s 2ms/step - loss: 206682.2656\n",
            "Epoch 9/100\n",
            "240/240 [==============================] - 0s 2ms/step - loss: 206682.2188\n",
            "Epoch 10/100\n",
            "240/240 [==============================] - 0s 2ms/step - loss: 206682.2344\n",
            "Epoch 11/100\n",
            "240/240 [==============================] - 0s 2ms/step - loss: 206682.3281\n",
            "Epoch 12/100\n",
            "240/240 [==============================] - 1s 2ms/step - loss: 206682.3281\n",
            "Epoch 13/100\n",
            "240/240 [==============================] - 1s 3ms/step - loss: 206682.3125\n",
            "Epoch 14/100\n",
            "240/240 [==============================] - 1s 3ms/step - loss: 206682.3750\n",
            "Epoch 15/100\n",
            "240/240 [==============================] - 1s 2ms/step - loss: 206682.1875\n",
            "Epoch 16/100\n",
            "240/240 [==============================] - 1s 2ms/step - loss: 206682.3438\n",
            "Epoch 17/100\n",
            "240/240 [==============================] - 0s 2ms/step - loss: 206682.1562\n",
            "Epoch 18/100\n",
            "240/240 [==============================] - 0s 2ms/step - loss: 206682.2656\n",
            "Epoch 19/100\n",
            "240/240 [==============================] - 0s 2ms/step - loss: 206682.2344\n",
            "Epoch 20/100\n",
            "240/240 [==============================] - 0s 2ms/step - loss: 206682.2812\n",
            "Epoch 21/100\n",
            "240/240 [==============================] - 0s 2ms/step - loss: 206682.2031\n",
            "Epoch 22/100\n",
            "240/240 [==============================] - 0s 2ms/step - loss: 206682.2812\n",
            "Epoch 23/100\n",
            "240/240 [==============================] - 0s 2ms/step - loss: 206682.2031\n",
            "Epoch 24/100\n",
            "240/240 [==============================] - 0s 2ms/step - loss: 206682.2031\n",
            "Epoch 25/100\n",
            "240/240 [==============================] - 0s 2ms/step - loss: 206682.3438\n",
            "Epoch 26/100\n",
            "240/240 [==============================] - 0s 2ms/step - loss: 206682.2188\n",
            "Epoch 27/100\n",
            "240/240 [==============================] - 0s 2ms/step - loss: 206682.3281\n",
            "Epoch 28/100\n",
            "240/240 [==============================] - 0s 2ms/step - loss: 206682.1719\n",
            "Epoch 29/100\n",
            "240/240 [==============================] - 0s 2ms/step - loss: 206682.3281\n",
            "Epoch 30/100\n",
            "240/240 [==============================] - 0s 2ms/step - loss: 206682.2812\n",
            "Epoch 31/100\n",
            "240/240 [==============================] - 0s 2ms/step - loss: 206682.1719\n",
            "Epoch 32/100\n",
            "240/240 [==============================] - 0s 2ms/step - loss: 206682.2656\n",
            "Epoch 33/100\n",
            "240/240 [==============================] - 0s 2ms/step - loss: 206682.2500\n",
            "Epoch 34/100\n",
            "240/240 [==============================] - 0s 2ms/step - loss: 206682.2812\n",
            "Epoch 35/100\n",
            "240/240 [==============================] - 0s 2ms/step - loss: 206682.3594\n",
            "Epoch 36/100\n",
            "240/240 [==============================] - 0s 2ms/step - loss: 206682.3594\n",
            "Epoch 37/100\n",
            "240/240 [==============================] - 0s 2ms/step - loss: 206682.2188\n",
            "Epoch 38/100\n",
            "240/240 [==============================] - 0s 2ms/step - loss: 206682.2344\n",
            "Epoch 39/100\n",
            "240/240 [==============================] - 0s 2ms/step - loss: 206682.3281\n",
            "Epoch 40/100\n",
            "240/240 [==============================] - 0s 2ms/step - loss: 206682.2812\n",
            "Epoch 41/100\n",
            "240/240 [==============================] - 1s 3ms/step - loss: 206682.2656\n",
            "Epoch 42/100\n",
            "240/240 [==============================] - 1s 3ms/step - loss: 206682.2500\n",
            "Epoch 43/100\n",
            "240/240 [==============================] - 1s 2ms/step - loss: 206682.2500\n",
            "Epoch 44/100\n",
            "240/240 [==============================] - 1s 2ms/step - loss: 206682.2812\n",
            "Epoch 45/100\n",
            "240/240 [==============================] - 1s 2ms/step - loss: 206682.2656\n",
            "Epoch 46/100\n",
            "240/240 [==============================] - 0s 2ms/step - loss: 206682.3281\n",
            "Epoch 47/100\n",
            "240/240 [==============================] - 0s 2ms/step - loss: 206682.2500\n",
            "Epoch 48/100\n",
            "240/240 [==============================] - 0s 2ms/step - loss: 206682.1875\n",
            "Epoch 49/100\n",
            "240/240 [==============================] - 0s 2ms/step - loss: 206682.2344\n",
            "Epoch 50/100\n",
            "240/240 [==============================] - 0s 2ms/step - loss: 206682.2344\n",
            "Epoch 51/100\n",
            "240/240 [==============================] - 0s 2ms/step - loss: 206682.2812\n",
            "Epoch 52/100\n",
            "240/240 [==============================] - 0s 2ms/step - loss: 206682.3281\n",
            "Epoch 53/100\n",
            "240/240 [==============================] - 0s 2ms/step - loss: 206682.2500\n",
            "Epoch 54/100\n",
            "240/240 [==============================] - 0s 2ms/step - loss: 206682.2500\n",
            "Epoch 55/100\n",
            "240/240 [==============================] - 0s 2ms/step - loss: 206682.2500\n",
            "Epoch 56/100\n",
            "240/240 [==============================] - 0s 2ms/step - loss: 206682.1875\n",
            "Epoch 57/100\n",
            "240/240 [==============================] - 0s 2ms/step - loss: 206682.2188\n",
            "Epoch 58/100\n",
            "240/240 [==============================] - 0s 2ms/step - loss: 206682.3281\n",
            "Epoch 59/100\n",
            "240/240 [==============================] - 0s 2ms/step - loss: 206682.2031\n",
            "Epoch 60/100\n",
            "240/240 [==============================] - 0s 2ms/step - loss: 206682.2031\n",
            "Epoch 61/100\n",
            "240/240 [==============================] - 0s 2ms/step - loss: 206682.2812\n",
            "Epoch 62/100\n",
            "240/240 [==============================] - 0s 2ms/step - loss: 206682.2656\n",
            "Epoch 63/100\n",
            "240/240 [==============================] - 0s 2ms/step - loss: 206682.2344\n",
            "Epoch 64/100\n",
            "240/240 [==============================] - 0s 2ms/step - loss: 206682.3125\n",
            "Epoch 65/100\n",
            "240/240 [==============================] - 0s 2ms/step - loss: 206682.3125\n",
            "Epoch 66/100\n",
            "240/240 [==============================] - 0s 2ms/step - loss: 206682.2188\n",
            "Epoch 67/100\n",
            "240/240 [==============================] - 0s 2ms/step - loss: 206682.2344\n",
            "Epoch 68/100\n",
            "240/240 [==============================] - 0s 2ms/step - loss: 206682.2812\n",
            "Epoch 69/100\n",
            "240/240 [==============================] - 1s 2ms/step - loss: 206682.2812\n",
            "Epoch 70/100\n",
            "240/240 [==============================] - 1s 3ms/step - loss: 206682.2188\n",
            "Epoch 71/100\n",
            "240/240 [==============================] - 1s 2ms/step - loss: 206682.3125\n",
            "Epoch 72/100\n",
            "240/240 [==============================] - 1s 2ms/step - loss: 206682.2812\n",
            "Epoch 73/100\n",
            "240/240 [==============================] - 1s 2ms/step - loss: 206682.3125\n",
            "Epoch 74/100\n",
            "240/240 [==============================] - 0s 2ms/step - loss: 206682.2656\n",
            "Epoch 75/100\n",
            "240/240 [==============================] - 0s 2ms/step - loss: 206682.2188\n",
            "Epoch 76/100\n",
            "240/240 [==============================] - 0s 2ms/step - loss: 206682.2500\n",
            "Epoch 77/100\n",
            "240/240 [==============================] - 0s 2ms/step - loss: 206682.2344\n",
            "Epoch 78/100\n",
            "240/240 [==============================] - 0s 2ms/step - loss: 206682.1719\n",
            "Epoch 79/100\n",
            "240/240 [==============================] - 0s 2ms/step - loss: 206682.2812\n",
            "Epoch 80/100\n",
            "240/240 [==============================] - 0s 2ms/step - loss: 206682.2188\n",
            "Epoch 81/100\n",
            "240/240 [==============================] - 0s 2ms/step - loss: 206682.2344\n",
            "Epoch 82/100\n",
            "240/240 [==============================] - 0s 2ms/step - loss: 206682.2188\n",
            "Epoch 83/100\n",
            "240/240 [==============================] - 0s 2ms/step - loss: 206682.2500\n",
            "Epoch 84/100\n",
            "240/240 [==============================] - 0s 2ms/step - loss: 206682.2812\n",
            "Epoch 85/100\n",
            "240/240 [==============================] - 0s 2ms/step - loss: 206682.2812\n",
            "Epoch 86/100\n",
            "240/240 [==============================] - 0s 2ms/step - loss: 206682.2188\n",
            "Epoch 87/100\n",
            "240/240 [==============================] - 0s 2ms/step - loss: 206682.2656\n",
            "Epoch 88/100\n",
            "240/240 [==============================] - 0s 2ms/step - loss: 206682.2656\n",
            "Epoch 89/100\n",
            "240/240 [==============================] - 0s 2ms/step - loss: 206682.2188\n",
            "Epoch 90/100\n",
            "240/240 [==============================] - 0s 2ms/step - loss: 206682.2656\n",
            "Epoch 91/100\n",
            "240/240 [==============================] - 0s 2ms/step - loss: 206682.2656\n",
            "Epoch 92/100\n",
            "240/240 [==============================] - 0s 2ms/step - loss: 206682.2500\n",
            "Epoch 93/100\n",
            "240/240 [==============================] - 0s 2ms/step - loss: 206682.2656\n",
            "Epoch 94/100\n",
            "240/240 [==============================] - 0s 2ms/step - loss: 206682.2656\n",
            "Epoch 95/100\n",
            "240/240 [==============================] - 0s 2ms/step - loss: 206682.1875\n",
            "Epoch 96/100\n",
            "240/240 [==============================] - 0s 2ms/step - loss: 206682.3281\n",
            "Epoch 97/100\n",
            "240/240 [==============================] - 0s 2ms/step - loss: 206682.2500\n",
            "Epoch 98/100\n",
            "240/240 [==============================] - 1s 3ms/step - loss: 206682.2344\n",
            "Epoch 99/100\n",
            "240/240 [==============================] - 1s 3ms/step - loss: 206682.2812\n",
            "Epoch 100/100\n",
            "240/240 [==============================] - 1s 3ms/step - loss: 206682.2500\n"
          ]
        },
        {
          "output_type": "execute_result",
          "data": {
            "text/plain": [
              "<keras.callbacks.History at 0x7fa13269aca0>"
            ]
          },
          "metadata": {},
          "execution_count": 12
        }
      ]
    },
    {
      "cell_type": "markdown",
      "metadata": {
        "id": "0H0zKKNEBLD5"
      },
      "source": [
        "### Predicting the results of the Test set"
      ]
    },
    {
      "cell_type": "code",
      "source": [
        "y_pred = ann.predict(X_test)\n",
        "np.set_printoptions(precision = 2)\n",
        "print(np.concatenate((y_pred.reshape(len(y_pred), 1), y_test.reshape(len(y_test), 1)), 1))"
      ],
      "metadata": {
        "id": "dlp49cmm1dcP",
        "colab": {
          "base_uri": "https://localhost:8080/"
        },
        "outputId": "e30a8b80-41a8-40a5-8682-7752f69e1349"
      },
      "execution_count": 14,
      "outputs": [
        {
          "output_type": "stream",
          "name": "stdout",
          "text": [
            "60/60 [==============================] - 0s 1ms/step\n",
            "[[  0.   431.23]\n",
            " [  0.   460.01]\n",
            " [  0.   461.14]\n",
            " ...\n",
            " [  0.   473.26]\n",
            " [  0.   438.  ]\n",
            " [  0.   463.28]]\n"
          ]
        }
      ]
    }
  ]
}